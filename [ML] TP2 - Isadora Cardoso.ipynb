{
 "cells": [
  {
   "cell_type": "markdown",
   "metadata": {},
   "source": [
    "# TP 2 - Machine Learning\n",
    "\n",
    "## Student: Isadora Cardoso\n",
    "\n",
    "--------------------"
   ]
  },
  {
   "cell_type": "markdown",
   "metadata": {},
   "source": [
    "The goal of this work is to implement the AdaBoost algorithm, using decision stumps as weak classifier. The evaluation uses k-fold cross-validation, with $k = 5$."
   ]
  },
  {
   "cell_type": "markdown",
   "metadata": {},
   "source": [
    "### Introduction\n",
    "\n",
    "#### AdaBoost\n",
    "\n",
    "In Machine Learning, Boosting refers to an iterative procedure that constructs a set of base classifiers from training data and performs classification by taking a vote on the predictions made by each base classifier. It is important to note that those base classifiers should be weak ones, which gives the following advantages:\n",
    "\n",
    "- Speed: simple classifiers does not have many parameters to learn;\n",
    "- Avoiding overfitting: the classifiers give different hypothesis, which may have great diversity, i.e., the algorithm is always learning. So, by combining different hypothesis from the hypothesis space, it gives a robust final hypothesis.\n",
    "\n",
    "\n",
    "AdaBoost assigns a weight to each training example and may adaptively change the weight at the end of each boosting round. It adaptively change the distribution of training examples so that the base classifiers will focus on examples that are hard to classify. AdaBoost is represented by the following model:\n",
    "\n",
    "\\begin{equation*}\n",
    "h(x) = \\alpha_1 h_1 (x) + \\cdots + \\alpha_m h_m (x),\n",
    "\\end{equation*}\n",
    "\n",
    "where $m$ is the total of classifiers.\n",
    "\n",
    "\n",
    "AdaBoost is a simple algorithm that:\n",
    "\n",
    "1. Assign to all examples equal weights, where $\\sum_{i=1}^n w_i = 1$. Therefore, we have $w = 1/n$, where $n$ is the size of the data set. It gives to all examples equally likely to be chosen for training;\n",
    "2. Loop until reached the maximum number of weak classifier (from 1 to $m$):\n",
    "  - Pick $h_t$ that minimizes the empirical error, $\\epsilon_t$, at iteration $t$.\n",
    "  - Calculate $\\alpha^t$:\n",
    "\n",
    "\\begin{equation}\n",
    "\\alpha_t = \\frac{1}{2} \\log \\left( \\frac{1 - \\epsilon_t}{\\epsilon_t} \\right),\n",
    "\\end{equation}\n",
    "\n",
    "where $\\epsilon^t$ is the empirical error at iteration $t$.\n",
    "\n",
    " - Update the weights, i.e., calculate $w_{t+1}^i$:\n",
    "\n",
    "\\begin{equation}\n",
    "\\sum_{i=1}^n w_{t+1}^i = \\frac{w_t^i}{z} e^{-\\alpha_t \\cdot h_t(x) \\cdot y(x)},\n",
    "\\end{equation}\n",
    "\n",
    "where $y(x)$ returns the correct output, $h_t(x)$ is the prediction by the classifier, and $z$ is a normalizer factor that ensures that $\\sum_{i=1}^n w_i = 1$.\n",
    "\n",
    "Examples that are classified incorrectly will have their weights increased, while those that are classified correctly will have their weights decreased. This forces the classifier to focus on examples that are difficult to classify in subsequent iterations _(Tan et al., 2005)_.\n",
    "\n",
    "#### Weak Classifier\n",
    "\n",
    "In this work, we use Decision Stumps, which consists of a tree with only one level. They are one of the simplest classifier, which makes them perfect as weak classifiers in Boosting. The epirical error $\\epsilon_t$ for them is the sum of the weights of the misclassified examples.\n",
    "\n",
    "> The weak learner considers each of the decision stump classifiers and outputs the one with the smallest (weighted) error. In case of ties, it outputs the classifier with the smallest index: $g_1$ is the most preferred while $g_{14}$ is the least preferred. More generally, for each classifier, there is also its “inverse” in the sense that they use the same test but have their labels inverted: the decision-stump branches have their labels inverted. For each odd number $i$, classifier $g_{i+1}$ is the “inverse” of $g_i$ _(ORTIZ, 2005)_.\n",
    "\n",
    "#### Data set\n",
    "\n",
    "The data set used here depicts the Tic-Tac-Toe game _(AHA)_. Each example gives a configuration of the game, assuming that the player with \"x\" plays first. We classify \"x wins\" (i.e., true when \"x\" has one of 8 possible ways to create a \"three-in-a-row\") as the positives instances and the negatives are \"o wins\". It also has a feature \"b\", when there is nothing in the position.\n",
    "\n",
    "#### Cross-Validation\n",
    "\n",
    "In Cross-Validation, we randomly split the data into $k$ folds, using $k-1$ to train and 1 to test. It helps the data generalization, since the model is trained and tested in different data sets, avoiding overfitting.\n",
    "\n",
    "\n",
    "###### References\n",
    "\n",
    "TAN, P. STEINBACH, M. KUMAR, V. Introduction to Data Mining, (First Edition). Addison-Wesley Longman Publishing Co., Inc., Boston, MA, USA, 2005.\n",
    "\n",
    "AHA, D. Tic-Tac-Toe Endgame Data Set. Available in: https://archive.ics.uci.edu/ml/datasets/Tic-Tac-Toe+Endgame\n",
    "\n",
    "ORTIZ, L. Boosting: Review Problem. 2005. Available in: http://www-personal.umd.umich.edu/~leortiz/teaching/6.034f/Fall05/boost/boost_prob_review.pdf\n",
    "\n",
    "----------------"
   ]
  },
  {
   "cell_type": "markdown",
   "metadata": {},
   "source": [
    "### Implementation"
   ]
  },
  {
   "cell_type": "code",
   "execution_count": 2,
   "metadata": {
    "collapsed": true
   },
   "outputs": [],
   "source": [
    "# Import the necessary libraries\n",
    "\n",
    "import csv\n",
    "import numpy as np\n",
    "from sklearn.model_selection import KFold\n",
    "import matplotlib.pyplot as plt\n",
    "\n",
    "from random import seed\n",
    "from random import randrange\n",
    "\n",
    "%matplotlib inline\n",
    "\n",
    "seed(123)"
   ]
  },
  {
   "cell_type": "markdown",
   "metadata": {},
   "source": [
    "The classes in the data set are described as 'positive', when \"x\" wins, and 'negative', when \"o\" wins. We change this to 1 (positive) and -1 (negative), since it is easier to handle."
   ]
  },
  {
   "cell_type": "code",
   "execution_count": 4,
   "metadata": {
    "collapsed": false
   },
   "outputs": [],
   "source": [
    "# Load the data set\n",
    "\n",
    "with open('tic-tac-toe.csv') as data_file:\n",
    "    data = []\n",
    "    dataset = csv.reader(data_file)\n",
    "    for row in dataset:\n",
    "        if row[-1] == 'positive':\n",
    "            row[-1] = int(1)\n",
    "        else:\n",
    "            row[-1] = int(-1)\n",
    "        data.append(row)\n",
    "        \n",
    "data_file.close()\n",
    "\n",
    "data = np.array(data)"
   ]
  },
  {
   "cell_type": "markdown",
   "metadata": {},
   "source": [
    "We will first implement the decision stump. Since we have 3 possible values (x,o,b) for 9 possible positions, we will have 54 stumps (27 positives and 27 negatives). We run all the decision stumps and choose the one with the smallest error."
   ]
  },
  {
   "cell_type": "code",
   "execution_count": 5,
   "metadata": {
    "collapsed": false,
    "scrolled": true
   },
   "outputs": [],
   "source": [
    "# Stump to train\n",
    "# The input is the data, the index of the values, the values, and the inverse.\n",
    "\n",
    "def decision_stump(data, index, value, inverse):\n",
    "    answer = np.ones(len(data))\n",
    "    \n",
    "    if inverse:\n",
    "        answer[data[:,index] == value] = -1.0\n",
    "    else:\n",
    "        answer[data[:,index] != value] = -1.0 \n",
    "        \n",
    "    return answer\n",
    "\n",
    "\n",
    "# Stump to test\n",
    "# The input is the example, the index of the values, the values, and the inverse.\n",
    "\n",
    "def predict_stump(example, index, value, inverse):\n",
    "    answer = 1.0\n",
    "    \n",
    "    if inverse and example[index] == value:\n",
    "        answer = -1.0\n",
    "    elif not inverse and example[index] != value:\n",
    "        answer = -1.0\n",
    "        \n",
    "    return answer\n",
    "\n",
    "\n",
    "# Get the best stump\n",
    "# The input is the data, the classes, and the weights.\n",
    "\n",
    "def best_stump(data, classes, weights):\n",
    "    \n",
    "    rows, columns = np.array(data).shape\n",
    "    best_stump = {}\n",
    "    best_predict = np.zeros(rows)\n",
    "    \n",
    "    min_error = float('inf')\n",
    "    \n",
    "    for index in range(columns - 1):\n",
    "        for value in ['x', 'o', 'b']:\n",
    "            for inverse in [True, False]:\n",
    "                predict = decision_stump(data, index, value, inverse)\n",
    "                \n",
    "                error = np.ones(rows, dtype=np.int)\n",
    "                error[predict == classes] = 0\n",
    "                weighted_error = np.dot(weights, error)\n",
    "                \n",
    "                if weighted_error < min_error:\n",
    "                    min_error = weighted_error\n",
    "\n",
    "                    best_predict = predict.copy()\n",
    "                    best_stump['index'] = index\n",
    "                    best_stump['value'] = value\n",
    "                    best_stump['inverse'] = inverse\n",
    "    \n",
    "    return best_stump, best_predict, min_error"
   ]
  },
  {
   "cell_type": "markdown",
   "metadata": {},
   "source": [
    "We will implement the AdaBoost model. We can put big iterations values since stumps are very simple and execute fast. We add a small value in alpha because sometimes it is zero, which gives errors."
   ]
  },
  {
   "cell_type": "code",
   "execution_count": 6,
   "metadata": {
    "collapsed": false,
    "scrolled": true
   },
   "outputs": [],
   "source": [
    "# AdaBoost\n",
    "# The input is the data and number of iterations\n",
    "\n",
    "def adaboost(data, num_iter = 1000):\n",
    "    classifiers = []\n",
    "    iterat_error = []\n",
    "    stump_error = []\n",
    "    n = len(data)\n",
    "    \n",
    "    weights = np.array([1.0/n for x in range(n)])\n",
    "    classes = np.array(np.array(data)[:,-1], dtype=np.float)\n",
    "    classifiers_predict = np.zeros(n)\n",
    "    \n",
    "    for i in range(num_iter):\n",
    "        stump, predict, error = best_stump(data, classes, weights)\n",
    "        \n",
    "        # Add small value for stability\n",
    "        alpha = float(0.5*np.log((1.0-error) / (error+1e-15)))\n",
    "        stump['alpha'] = alpha\n",
    "        classifiers.append(stump)\n",
    "\n",
    "        weights = np.multiply(weights, np.exp(np.multiply(-alpha*classes, predict)))\n",
    "        weights = weights/weights.sum()\n",
    "\n",
    "        classifiers_predict += predict * alpha\n",
    "        \n",
    "        # sign function returns -1 if x < 0, 0 if x == 0, and 1 if x > 0\n",
    "        classifiers_error = np.multiply(np.sign(classifiers_predict) != classes, np.ones(n))\n",
    "        classifiers_error = classifiers_error.sum()/n\n",
    "        \n",
    "        iterat_error.append(classifiers_error)\n",
    "        stump_error.append(error)\n",
    "        \n",
    "    return classifiers, iterat_error, stump_error"
   ]
  },
  {
   "cell_type": "markdown",
   "metadata": {},
   "source": [
    "Note we write two classes to predict data. The first one (predict) works as a \"private class\" (same concept as in java language), being used only to help the \"main\" predict function. The same happens for cross validation."
   ]
  },
  {
   "cell_type": "code",
   "execution_count": 7,
   "metadata": {
    "collapsed": false,
    "scrolled": true
   },
   "outputs": [],
   "source": [
    "# Predict the output for an example\n",
    "\n",
    "# this class is like a private class, being called just by the class below\n",
    "def predict(example, boost):\n",
    "    classifiers_predict = 0\n",
    "    \n",
    "    for h in range(len(boost)):\n",
    "        predict = predict_stump(example, boost[h]['index'], boost[h]['value'], boost[h]['inverse'])\n",
    "        classifiers_predict += boost[h]['alpha'] * predict\n",
    "\n",
    "    return np.sign(classifiers_predict)\n",
    "\n",
    "\n",
    "\n",
    "def test_classifier(data, boost):\n",
    "    \n",
    "    n = data.shape[0]  \n",
    "    classes = np.array(data[:,-1], dtype=np.float)\n",
    "    predicted_classes = np.zeros(n)\n",
    "    error = np.zeros(n)\n",
    "    \n",
    "    for index in range(n):\n",
    "        predicted_classes[index] = predict(data[index,:], boost)\n",
    "    \n",
    "    error = np.multiply(np.sign(predicted_classes) != classes, np.ones(n))\n",
    "    \n",
    "    return error.sum()/n"
   ]
  },
  {
   "cell_type": "markdown",
   "metadata": {},
   "source": [
    "In order to evaluate better our AdaBoost model, we use k-fold cross-validation, with k = 5."
   ]
  },
  {
   "cell_type": "code",
   "execution_count": 8,
   "metadata": {
    "collapsed": false,
    "scrolled": true
   },
   "outputs": [],
   "source": [
    "# Split the data into k-folds\n",
    "\n",
    "# this class is like a private class, being called just by the class below\n",
    "def folds_split(data, n_folds):\n",
    "    splits = list()\n",
    "    data_copy = list(data)\n",
    "    fold_size = int(len(data) / n_folds)\n",
    "    \n",
    "    for i in range(n_folds):\n",
    "        fold = list()\n",
    "        \n",
    "        while len(fold) < fold_size:\n",
    "            index = randrange(len(data_copy))\n",
    "            fold.append(data_copy.pop(index))\n",
    "            \n",
    "        splits.append(fold)\n",
    "        \n",
    "    return splits\n",
    "\n",
    "\n",
    "\n",
    "def cross_validation(data, n_folds):\n",
    "    k_folds = folds_split(data, n_folds)\n",
    "\n",
    "    data_splitted = []\n",
    "\n",
    "    for fold in range(len(k_folds)):\n",
    "        train = []\n",
    "        train_id = list(range(0, fold)) + list(range(fold + 1, len(k_folds)))\n",
    "\n",
    "        test = k_folds[fold]\n",
    "\n",
    "        for index in train_id:\n",
    "            for item in k_folds[index]:\n",
    "                train.append(item)\n",
    "\n",
    "        data_splitted.append((train,test))\n",
    "        \n",
    "    return data_splitted"
   ]
  },
  {
   "cell_type": "code",
   "execution_count": 47,
   "metadata": {
    "collapsed": false,
    "scrolled": true
   },
   "outputs": [],
   "source": [
    "# Run the AdaBoost model in Tic-Tac-Toe data set\n",
    "\n",
    "n_folds = 5\n",
    "n_iterations = 300\n",
    "test_error = []\n",
    "\n",
    "k_folds = cross_validation(data, n_folds)\n",
    "\n",
    "# we have to add one to not stop before we want\n",
    "for iteration in range(50,(n_iterations+1),50):\n",
    "\n",
    "    if iteration < n_iterations:\n",
    "        error = 0\n",
    "\n",
    "        for train, test in k_folds:\n",
    "            model, err, st_err = adaboost(np.array(train), iteration)\n",
    "            error += test_classifier(np.array(test), model)\n",
    "\n",
    "        test_error.append(error/n_folds)\n",
    "\n",
    "    else:\n",
    "        train_error = np.zeros(iteration)\n",
    "        stump_error = np.zeros(iteration)\n",
    "        error = 0\n",
    "\n",
    "        for train, test in k_folds:\n",
    "            model, err, st_err = adaboost(np.array(train), iteration)\n",
    "\n",
    "            train_error = np.add(train_error, err)\n",
    "            stump_error = np.add(stump_error, st_err)\n",
    "\n",
    "            error += test_classifier(np.array(test), model)\n",
    "\n",
    "        test_error.append(error/n_folds)\n",
    "        train_error = train_error/n_folds\n",
    "        stump_error = stump_error/n_folds"
   ]
  },
  {
   "cell_type": "code",
   "execution_count": 52,
   "metadata": {
    "collapsed": true
   },
   "outputs": [],
   "source": [
    "# Plot training errors\n",
    "\n",
    "def plot_train_error(n_iterations):\n",
    "    fig, ax = plt.subplots()\n",
    "\n",
    "    iteration = range(1,(n_iterations+1))\n",
    "    ax.plot(iteration,train_error,'-', linewidth = 2, label=u'Ensemble Training Error Rate', color='tomato')\n",
    "    ax.plot(iteration,stump_error,'-', linewidth = 2, label=u'Stump Training Error Rate', color='royalblue')\n",
    "\n",
    "    ax.ticklabel_format(useOffset=False, style='plain')\n",
    "\n",
    "    ax.set_ylim([0,0.5])\n",
    "    ax.set_xlim([0,(n_iterations+10)])\n",
    "    ax.xaxis.grid()\n",
    "\n",
    "    ax.legend(loc=5)\n",
    "\n",
    "    plt.title(u\"Adaboost with 5-Fold Cross Validation\")\n",
    "\n",
    "    plt.ylabel(u\"Error Rate\")\n",
    "    plt.xlabel(u\"Iteration\")\n",
    "\n",
    "    plt.show()\n",
    " \n",
    "\n",
    "#\n",
    "# Plot test error\n",
    "\n",
    "def plot_test_error(n_iterations):\n",
    "    fig, ax = plt.subplots()\n",
    "\n",
    "    iteration = range(50,(n_iterations+1),50)\n",
    "    ax.plot(iteration,test_error,'-', linewidth = 2, label=u'Ensemble Test Error Rate', color='tomato')\n",
    "\n",
    "    ax.ticklabel_format(useOffset=False, style='plain')\n",
    "\n",
    "    ax.set_ylim([0,0.2])\n",
    "    ax.xaxis.grid()\n",
    "\n",
    "    ax.legend()\n",
    "\n",
    "    plt.title(u\"Adaboost with 5-Fold Cross Validation\")\n",
    "\n",
    "    plt.ylabel(u\"Error Rate\")\n",
    "    plt.xlabel(u\"Iteration\")\n",
    "\n",
    "    plt.show()"
   ]
  },
  {
   "cell_type": "markdown",
   "metadata": {},
   "source": [
    "First, we examine the training error. The blue line gives the training error by AdaBoost. The first decision stump predicts with about 30% of error. If we do not change the weights of the data set, we would always get this error rate, since we would always get the same classifier. However, as we add more stumps (with more iterations), we gain more accuracy, up to 50%. Also, we can see that with more stumps, the traning error rate is smaller. Around the 200 iteration, this rate is getting steady. So, we conclude that 200 iterations are enough to this data to minimize the training error.\n",
    "\n",
    "In the second figure, we can see the ensemble test error rate. Around the 150 iterations, we have about 5% of error. When the training error is like converging, around 200 iterations, the test error is about 2.5%, being smaller with more iterations. However, an accuracy of almost 98% is a great result."
   ]
  },
  {
   "cell_type": "code",
   "execution_count": 53,
   "metadata": {
    "collapsed": false,
    "scrolled": true
   },
   "outputs": [
    {
     "data": {
      "image/png": "[encoded data removed]",
      "text/plain": [
       "<matplotlib.figure.Figure at 0x7f279531c438>"
      ]
     },
     "metadata": {},
     "output_type": "display_data"
    },
    {
     "data": {
      "image/png": "[encoded data removed]",
      "text/plain": [
       "<matplotlib.figure.Figure at 0x7f279540a8d0>"
      ]
     },
     "metadata": {},
     "output_type": "display_data"
    }
   ],
   "source": [
    "plot_train_error(300)\n",
    "plot_test_error(300)"
   ]
  },
  {
   "cell_type": "markdown",
   "metadata": {},
   "source": [
    "### Conclusion\n",
    "\n",
    "In this work we implement and evaluate an AdaBoost model, which ensembles several weak classifiers in order to have a strong classifier. We use decision stumps, that are tree with one level, as the weak classfiers. Also, we use k-fold cross-validation with k = 5 to evaluate the model.\n",
    "\n",
    "We can note that the only parameter to AdaBoost, the number of weak classifiers, is extremely important to the result. In this work, we use 300 weak classifiers. Even though the accuracy for each classifier is low, the model that ensemble them achieves great results, with almost 98% of accuracy.\n",
    "\n",
    "Furthermore, this work helped to understand how the AdaBoost works and showed that complexity does not mean better accuracy. So we conclude that the work achieved very well its purpose."
   ]
  }
 ],
 "metadata": {
  "anaconda-cloud": {},
  "kernelspec": {
   "display_name": "Python [default]",
   "language": "python",
   "name": "python3"
  },
  "language_info": {
   "codemirror_mode": {
    "name": "ipython",
    "version": 3
   },
   "file_extension": ".py",
   "mimetype": "text/x-python",
   "name": "python",
   "nbconvert_exporter": "python",
   "pygments_lexer": "ipython3",
   "version": "3.5.4"
  }
 },
 "nbformat": 4,
 "nbformat_minor": 1
}
